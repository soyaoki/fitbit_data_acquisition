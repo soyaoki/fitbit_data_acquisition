{
 "cells": [
  {
   "cell_type": "code",
   "execution_count": null,
   "metadata": {},
   "outputs": [],
   "source": [
    "# ACCESS TOKENとREFRESH TOKENが変更されてしまうので、自動化する\n",
    "\n",
    "import gather_keys_oauth2 as gk # fitbit提供\n",
    "\n",
    "# ここを変更する\n",
    "CLIENT_ID =  \"XXXXXX\"\n",
    "CLIENT_SECRET  = \"XXXXXXXXXXXXXXXXXXXXXXXXXXXXXXX\"\n",
    "\n",
    "# Authorization\n",
    "server=gk.OAuth2Server(CLIENT_ID, CLIENT_SECRET)\n",
    "server.browser_authorize()\n",
    "\n",
    "# profile取得\n",
    "profile = server.fitbit.user_profile_get()\n",
    "# print(profile) #やばい\n",
    "\n",
    "# 名前を表示\n",
    "print('You are authorized to access data for the user: {}'.format(\n",
    "    profile['user']['fullName']))\n",
    "\n",
    "# ACCESS TOKENとREFRESH TOKENはここにある\n",
    "print('TOKEN\\n=====\\n')\n",
    "for key, value in server.fitbit.client.session.token.items():\n",
    "    print('{} = {}'.format(key, value))"
   ]
  },
  {
   "cell_type": "code",
   "execution_count": null,
   "metadata": {
    "scrolled": true
   },
   "outputs": [],
   "source": [
    "import fitbit\n",
    "import pandas as pd\n",
    "import seaborn as sns\n",
    "import matplotlib.pyplot as plt\n",
    "import numpy as np\n",
    "import datetime\n",
    "%matplotlib inline\n",
    "\n",
    "# メモしたID等\n",
    "ACCESS_TOKEN =  server.fitbit.client.session.token[\"access_token\"]\n",
    "REFRESH_TOKEN =  server.fitbit.client.session.token[\"refresh_token\"]\n",
    "\n",
    "# 取得したい日付\n",
    "DATE = \"2018-03-18\"\n",
    "# DATE = str(datetime.date.today())\n",
    "\n",
    "# ID等の設定\n",
    "authd_client = fitbit.Fitbit(CLIENT_ID, CLIENT_SECRET, access_token=ACCESS_TOKEN, refresh_token=REFRESH_TOKEN)\n",
    "\n",
    "# 心拍数を取得（1秒単位）\n",
    "data_sec = authd_client.intraday_time_series('activities/heart', DATE, detail_level='1sec') #'1sec', '1min', or '15min'\n",
    "heart_sec = data_sec[\"activities-heart-intraday\"][\"dataset\"]\n",
    "heart_sec[:10]\n",
    "\n",
    "# Pandasを使用\n",
    "heart_df = pd.DataFrame.from_dict(heart_sec)\n",
    "heart_df.index = pd.to_datetime([DATE + \" \" + t for t in heart_df.time])\n",
    "\n",
    "#データ表示\n",
    "heart_df.plot(y=\"value\", figsize=(20,5))\n",
    "\n",
    "\n",
    "# 5行分表示\n",
    "heart_df.head()"
   ]
  },
  {
   "cell_type": "code",
   "execution_count": null,
   "metadata": {},
   "outputs": [],
   "source": [
    "fig = plt.figure(figsize=(15,5))\n",
    "plt.plot(heart_df.value)\n",
    "plt.title(\"Heart rate (time series)\")\n",
    "plt.xlabel(\"Time\")\n",
    "plt.ylabel(\"Heart rate[bpm]\")\n",
    "plt.savefig('hr.png')"
   ]
  },
  {
   "cell_type": "code",
   "execution_count": null,
   "metadata": {},
   "outputs": [],
   "source": [
    "plt.hist(heart_df.value)\n",
    "plt.title(\"Histogram of heart rate\")\n",
    "plt.xlabel(\"Heart rate[bpm]\")\n",
    "plt.ylabel(\"Frequency[times]\")\n",
    "plt.savefig('hist.png')"
   ]
  },
  {
   "cell_type": "code",
   "execution_count": null,
   "metadata": {},
   "outputs": [],
   "source": [
    "fig = plt.figure()\n",
    "ax = fig.add_subplot(111)\n",
    "\n",
    "# 箱ひげ図をつくる\n",
    "bp = ax.boxplot(heart_df.value)\n",
    "sigma = np.std(heart_df.value)# 標準偏差を求める\n",
    "mean = np.mean(heart_df.value)# 平均を求める\n",
    "plt.title(\"sigma=\"+str(sigma)+\", average=\"+str(mean))\n",
    "plt.ylabel(\"Heart rate [bpm]\")\n",
    "plt.savefig('hige.png')\n"
   ]
  },
  {
   "cell_type": "code",
   "execution_count": null,
   "metadata": {},
   "outputs": [],
   "source": [
    "plt.scatter(heart_df.value[:-1],heart_df.value[1:])\n",
    "plt.xlabel(\"HR $\\it{_{n}}$ [bpm]\")\n",
    "plt.ylabel(\"HR $\\it{_{n+1}}$ [bpm]\")\n",
    "plt.savefig('lorenz_plot.png')"
   ]
  },
  {
   "cell_type": "code",
   "execution_count": null,
   "metadata": {},
   "outputs": [],
   "source": []
  }
 ],
 "metadata": {
  "kernelspec": {
   "display_name": "Python 2",
   "language": "python",
   "name": "python2"
  },
  "language_info": {
   "codemirror_mode": {
    "name": "ipython",
    "version": 2
   },
   "file_extension": ".py",
   "mimetype": "text/x-python",
   "name": "python",
   "nbconvert_exporter": "python",
   "pygments_lexer": "ipython2",
   "version": "2.7.15"
  }
 },
 "nbformat": 4,
 "nbformat_minor": 1
}
